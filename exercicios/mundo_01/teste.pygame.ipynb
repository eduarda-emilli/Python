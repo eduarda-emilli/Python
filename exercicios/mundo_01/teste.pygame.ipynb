{
 "cells": [
  {
   "cell_type": "code",
   "execution_count": null,
   "metadata": {},
   "outputs": [],
   "source": [
    "import pygame\n",
    "\n",
    "# Inicializando o mixer PyGame\n",
    "pygame.mixer.init()\n",
    "\n",
    "# Inicializando o PyGame\n",
    "pygame.init()\n",
    "\n",
    "pygame.mixer.music.load('exercicios/Parte 01/ex021.mp3')\n",
    "pygame.mixer.music.play(loops=0, start=0.0)\n",
    "pygame.event.wait()\n"
   ]
  }
 ],
 "metadata": {
  "language_info": {
   "name": "python"
  },
  "orig_nbformat": 4
 },
 "nbformat": 4,
 "nbformat_minor": 2
}
